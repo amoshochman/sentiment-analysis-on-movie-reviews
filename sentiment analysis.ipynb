{
 "cells": [
  {
   "cell_type": "markdown",
   "metadata": {},
   "source": [
    "### Retrieving the data"
   ]
  },
  {
   "cell_type": "code",
   "execution_count": 50,
   "metadata": {},
   "outputs": [],
   "source": [
    "import pandas as pd\n",
    "import numpy as np\n",
    "\n",
    "from sklearn.feature_extraction.text import CountVectorizer, TfidfVectorizer\n",
    "from sklearn.ensemble import RandomForestClassifier, AdaBoostClassifier, AdaBoostRegressor\n",
    "from sklearn.model_selection import train_test_split\n",
    "from sklearn.base import BaseEstimator, TransformerMixin\n",
    "from sklearn.decomposition import PCA\n",
    "from sklearn.feature_selection import chi2\n",
    "from sklearn.metrics import accuracy_score, confusion_matrix\n",
    "from sklearn.pipeline import Pipeline, make_pipeline\n",
    "\n",
    "from collections import Counter\n",
    "\n",
    "from nltk.sentiment import SentimentAnalyzer\n",
    "from nltk.classify import NaiveBayesClassifier\n",
    "\n",
    "import tensorflow as tf\n",
    "\n",
    "from keras.callbacks import EarlyStopping, ModelCheckpoint\n",
    "\n",
    "from gensim.models import Word2Vec\n",
    "from gensim.models.phrases import Phrases, Phraser\n",
    "\n",
    "import transformers\n",
    "import torch\n",
    "\n",
    "import seaborn as sns\n",
    "import matplotlib.pyplot as plt\n",
    "\n",
    "import warnings\n",
    "warnings.simplefilter(action='ignore', category=FutureWarning)\n",
    "\n",
    "import os"
   ]
  },
  {
   "cell_type": "code",
   "execution_count": 2,
   "metadata": {},
   "outputs": [
    {
     "data": {
      "text/html": [
       "<div>\n",
       "<style scoped>\n",
       "    .dataframe tbody tr th:only-of-type {\n",
       "        vertical-align: middle;\n",
       "    }\n",
       "\n",
       "    .dataframe tbody tr th {\n",
       "        vertical-align: top;\n",
       "    }\n",
       "\n",
       "    .dataframe thead th {\n",
       "        text-align: right;\n",
       "    }\n",
       "</style>\n",
       "<table border=\"1\" class=\"dataframe\">\n",
       "  <thead>\n",
       "    <tr style=\"text-align: right;\">\n",
       "      <th></th>\n",
       "      <th>SentenceId</th>\n",
       "      <th>Phrase</th>\n",
       "      <th>Sentiment</th>\n",
       "    </tr>\n",
       "    <tr>\n",
       "      <th>PhraseId</th>\n",
       "      <th></th>\n",
       "      <th></th>\n",
       "      <th></th>\n",
       "    </tr>\n",
       "  </thead>\n",
       "  <tbody>\n",
       "    <tr>\n",
       "      <th>1</th>\n",
       "      <td>1</td>\n",
       "      <td>A series of escapades demonstrating the adage that what is good for the goose is also good for the gander , some of which occasionally amuses but none of which amounts to much of a story .</td>\n",
       "      <td>1</td>\n",
       "    </tr>\n",
       "    <tr>\n",
       "      <th>2</th>\n",
       "      <td>1</td>\n",
       "      <td>A series of escapades demonstrating the adage that what is good for the goose</td>\n",
       "      <td>2</td>\n",
       "    </tr>\n",
       "  </tbody>\n",
       "</table>\n",
       "</div>"
      ],
      "text/plain": [
       "          SentenceId  \\\n",
       "PhraseId               \n",
       "1                  1   \n",
       "2                  1   \n",
       "\n",
       "                                                                                                                                                                                                Phrase  \\\n",
       "PhraseId                                                                                                                                                                                                 \n",
       "1         A series of escapades demonstrating the adage that what is good for the goose is also good for the gander , some of which occasionally amuses but none of which amounts to much of a story .   \n",
       "2                                                                                                                        A series of escapades demonstrating the adage that what is good for the goose   \n",
       "\n",
       "          Sentiment  \n",
       "PhraseId             \n",
       "1                 1  \n",
       "2                 2  "
      ]
     },
     "execution_count": 2,
     "metadata": {},
     "output_type": "execute_result"
    }
   ],
   "source": [
    "df = pd.read_csv(\"train.tsv\", sep='\\t', index_col=\"PhraseId\")\n",
    "pd.set_option('display.max_colwidth', None)\n",
    "df.head(2)"
   ]
  },
  {
   "cell_type": "code",
   "execution_count": 3,
   "metadata": {},
   "outputs": [],
   "source": [
    "train, test = train_test_split(df[[\"Phrase\", \"Sentiment\"]], random_state=0)\n",
    "X_train = train.Phrase\n",
    "X_test = test.Phrase\n",
    "y_train = train.Sentiment\n",
    "y_test = test.Sentiment"
   ]
  },
  {
   "cell_type": "code",
   "execution_count": 4,
   "metadata": {},
   "outputs": [],
   "source": [
    "def get_accuracy():\n",
    "    pipe.fit(X_train, y_train)\n",
    "    y_pred = pipe.predict(X_test)\n",
    "    return round(accuracy_score(y_pred, y_test),3)"
   ]
  },
  {
   "cell_type": "markdown",
   "metadata": {},
   "source": [
    "### Baseline models\n",
    "\n"
   ]
  },
  {
   "cell_type": "markdown",
   "metadata": {},
   "source": [
    "We'll build them through simple steps:\n",
    "\n",
    "- encoding each sentence through basic methods such as bag of words and tf-idf.\n",
    "- using classic trees ensembles that use bagging and boosting, respectively.\n",
    "- ignoring the sentence Id.\n",
    "- ignoring in some cases the less frequent words."
   ]
  },
  {
   "cell_type": "markdown",
   "metadata": {},
   "source": [
    "#### Random Forest, BOW, TF-IDF"
   ]
  },
  {
   "cell_type": "code",
   "execution_count": 5,
   "metadata": {},
   "outputs": [],
   "source": [
    "count_vectorizer = CountVectorizer(max_features=1000)\n",
    "random_forest = RandomForestClassifier(max_depth=10, n_estimators=10)"
   ]
  },
  {
   "cell_type": "code",
   "execution_count": 6,
   "metadata": {},
   "outputs": [],
   "source": [
    "pipe = make_pipeline(count_vectorizer,random_forest)"
   ]
  },
  {
   "cell_type": "code",
   "execution_count": 7,
   "metadata": {
    "scrolled": true
   },
   "outputs": [
    {
     "data": {
      "text/plain": [
       "0.515"
      ]
     },
     "execution_count": 7,
     "metadata": {},
     "output_type": "execute_result"
    }
   ],
   "source": [
    "get_accuracy()"
   ]
  },
  {
   "cell_type": "markdown",
   "metadata": {},
   "source": [
    "Let's look at the percentages of the classes in the true labels and in the predictions. "
   ]
  },
  {
   "cell_type": "code",
   "execution_count": 8,
   "metadata": {},
   "outputs": [],
   "source": [
    "y_pred = pipe.predict(X_test)"
   ]
  },
  {
   "cell_type": "code",
   "execution_count": 9,
   "metadata": {
    "scrolled": false
   },
   "outputs": [
    {
     "data": {
      "text/plain": [
       "2    0.51\n",
       "3    0.21\n",
       "1    0.17\n",
       "4    0.06\n",
       "0    0.04\n",
       "Name: Sentiment, dtype: float64"
      ]
     },
     "execution_count": 9,
     "metadata": {},
     "output_type": "execute_result"
    }
   ],
   "source": [
    "round(pd.Series(y_train).value_counts(normalize=True),2)"
   ]
  },
  {
   "cell_type": "code",
   "execution_count": 10,
   "metadata": {
    "scrolled": false
   },
   "outputs": [
    {
     "data": {
      "text/plain": [
       "2    0.99\n",
       "3    0.01\n",
       "1    0.00\n",
       "4    0.00\n",
       "0    0.00\n",
       "dtype: float64"
      ]
     },
     "execution_count": 10,
     "metadata": {},
     "output_type": "execute_result"
    }
   ],
   "source": [
    "round(pd.Series(y_pred).value_counts(normalize=True),2)"
   ]
  },
  {
   "cell_type": "markdown",
   "metadata": {},
   "source": [
    "As we can see, Decision Trees in their basic configuration are not a good model for unbalanced data! In almost every node, the biggest category has the majority and that's what the model predicts for almost every row. The accuracy then is aproximately the percentage of the biggest category: 0.5.\n",
    "\n",
    "Let's add now weights."
   ]
  },
  {
   "cell_type": "code",
   "execution_count": 11,
   "metadata": {},
   "outputs": [
    {
     "name": "stdout",
     "output_type": "stream",
     "text": [
      "0.481\n",
      "0.443\n"
     ]
    }
   ],
   "source": [
    "random_forest.set_params(class_weight = 'balanced')\n",
    "print(get_accuracy())\n",
    "random_forest.set_params(class_weight = 'balanced_subsample')\n",
    "print(get_accuracy())"
   ]
  },
  {
   "cell_type": "markdown",
   "metadata": {},
   "source": [
    "Surprisingly or not, when using as weights the inverse of the classes proportion, the accuracy gets worst. \n",
    "\n",
    "Through the confusion matrix we can see that the model is still predicting _too much 2_, although now the complexity increased."
   ]
  },
  {
   "cell_type": "code",
   "execution_count": 12,
   "metadata": {},
   "outputs": [
    {
     "data": {
      "image/png": "[encoded data removed]",
      "text/plain": [
       "<Figure size 720x360 with 2 Axes>"
      ]
     },
     "metadata": {},
     "output_type": "display_data"
    }
   ],
   "source": [
    "labels = [i for i in range(5)]\n",
    "y_pred = pipe.predict(X_test)\n",
    "cm = confusion_matrix(y_test, y_pred, labels)\n",
    "fig = plt.figure(figsize=(10, 5))\n",
    "ax = fig.add_subplot(111)\n",
    "cax = ax.matshow(cm)\n",
    "plt.title('Confusion matrix')\n",
    "fig.colorbar(cax)\n",
    "ax.set_xticklabels(['']+ labels)\n",
    "ax.set_yticklabels(['']+ labels)\n",
    "plt.xlabel('Predicted')\n",
    "plt.ylabel('True')\n",
    "plt.show()"
   ]
  },
  {
   "cell_type": "markdown",
   "metadata": {},
   "source": [
    "We'll try also adding lemmatization and replacing the BOW with tf-idf."
   ]
  },
  {
   "cell_type": "code",
   "execution_count": 13,
   "metadata": {},
   "outputs": [],
   "source": [
    "#taken from sklearn webpage\n",
    "from nltk import word_tokenize          \n",
    "from nltk.stem import WordNetLemmatizer \n",
    "class LemmaTokenizer:\n",
    "    def __init__(self):\n",
    "        self.wnl = WordNetLemmatizer()\n",
    "    def __call__(self, doc):\n",
    "        return [self.wnl.lemmatize(t) for t in word_tokenize(doc)]"
   ]
  },
  {
   "cell_type": "code",
   "execution_count": 14,
   "metadata": {},
   "outputs": [
    {
     "data": {
      "text/plain": [
       "0.46"
      ]
     },
     "execution_count": 14,
     "metadata": {},
     "output_type": "execute_result"
    }
   ],
   "source": [
    "pipe[0].set_params(tokenizer=LemmaTokenizer())\n",
    "get_accuracy()"
   ]
  },
  {
   "cell_type": "code",
   "execution_count": 15,
   "metadata": {},
   "outputs": [
    {
     "data": {
      "text/plain": [
       "0.434"
      ]
     },
     "execution_count": 15,
     "metadata": {},
     "output_type": "execute_result"
    }
   ],
   "source": [
    "tfidf_vectorizer = TfidfVectorizer()\n",
    "pipe.steps[0] = ('vectorizer', tfidf_vectorizer)\n",
    "get_accuracy()"
   ]
  },
  {
   "cell_type": "markdown",
   "metadata": {},
   "source": [
    "That is, still poor results. We'll try with boosting."
   ]
  },
  {
   "cell_type": "markdown",
   "metadata": {},
   "source": [
    "#### Adaboost, chi2"
   ]
  },
  {
   "cell_type": "code",
   "execution_count": 16,
   "metadata": {},
   "outputs": [
    {
     "data": {
      "text/plain": [
       "0.541"
      ]
     },
     "execution_count": 16,
     "metadata": {},
     "output_type": "execute_result"
    }
   ],
   "source": [
    "ada_boost = AdaBoostClassifier()\n",
    "pipe.steps[1] = ('adaboost', ada_boost)\n",
    "get_accuracy()"
   ]
  },
  {
   "cell_type": "markdown",
   "metadata": {},
   "source": [
    "We now see an improvement. We'll try now using only the most relevant words according to chi2."
   ]
  },
  {
   "cell_type": "code",
   "execution_count": null,
   "metadata": {},
   "outputs": [],
   "source": [
    "type()"
   ]
  },
  {
   "cell_type": "code",
   "execution_count": null,
   "metadata": {},
   "outputs": [],
   "source": [
    "count_vectorizer.get_feature_names"
   ]
  },
  {
   "cell_type": "code",
   "execution_count": 21,
   "metadata": {},
   "outputs": [
    {
     "data": {
      "text/plain": [
       "0.54"
      ]
     },
     "execution_count": 21,
     "metadata": {},
     "output_type": "execute_result"
    }
   ],
   "source": [
    "count_vectorizer = CountVectorizer()\n",
    "\n",
    "bow = count_vectorizer.fit_transform(X_train)\n",
    "\n",
    "words = count_vectorizer.get_feature_names()\n",
    "\n",
    "p_value_limit = 0.95\n",
    "\n",
    "dtf_features = pd.DataFrame()\n",
    "\n",
    "for cat in range(5):\n",
    "    _, p = chi2(bow, y_train==cat)\n",
    "    dtf_features = dtf_features.append(pd.DataFrame(\n",
    "                   {\"feature\":words, \"score\":1-p, \"y\":cat}))\n",
    "    dtf_features = dtf_features.sort_values([\"y\",\"score\"], \n",
    "                    ascending=[True,False])\n",
    "    dtf_features = dtf_features[dtf_features[\"score\"]>p_value_limit]\n",
    "    \n",
    "X_names = dtf_features[\"feature\"].unique().tolist()\n",
    "\n",
    "pipe['vectorizer'].set_params(vocabulary = X_names)\n",
    "\n",
    "get_accuracy()"
   ]
  },
  {
   "cell_type": "markdown",
   "metadata": {},
   "source": [
    "That is, similar than before. At this point, we are slightly better than a benchmark in Kaggle leaderbord, the one corresponding to predicting only _2/neutral_: 0.517."
   ]
  },
  {
   "cell_type": "markdown",
   "metadata": {},
   "source": [
    "- Why AdaBoost gave better results than Random Forest?\n",
    "- Why AdaBoost predicted most of the times the majority class, but not always?"
   ]
  },
  {
   "cell_type": "markdown",
   "metadata": {},
   "source": [
    "### Neural networks"
   ]
  },
  {
   "cell_type": "code",
   "execution_count": 22,
   "metadata": {},
   "outputs": [],
   "source": [
    "from tensorflow.keras.models import Sequential\n",
    "from tensorflow.keras.layers import Dense"
   ]
  },
  {
   "cell_type": "markdown",
   "metadata": {},
   "source": [
    "We'll use a simple NN with only one hidden layer."
   ]
  },
  {
   "cell_type": "code",
   "execution_count": 23,
   "metadata": {},
   "outputs": [],
   "source": [
    "mc = ModelCheckpoint('best_model.h5', monitor='val_accuracy', mode='max', verbose=1, save_best_only=True)"
   ]
  },
  {
   "cell_type": "code",
   "execution_count": 24,
   "metadata": {},
   "outputs": [],
   "source": [
    "def fit_sequential(X_train, X_test, sequential=None, epochs=20, patience=5):\n",
    "    \n",
    "    if sequential is None:\n",
    "        input_size = X_train.shape[1]\n",
    "\n",
    "        sequential = tf.keras.models.Sequential([\n",
    "      tf.keras.layers.Flatten(input_shape=(input_size, )),\n",
    "      tf.keras.layers.Dense(128, activation='sigmoid'),\n",
    "      tf.keras.layers.Dropout(0.2),\n",
    "      tf.keras.layers.Dense(5)\n",
    "    ])\n",
    "        loss_fn = tf.keras.losses.SparseCategoricalCrossentropy(from_logits=True)\n",
    "        sequential.compile(optimizer='adam', loss=loss_fn, metrics=['accuracy'])\n",
    "        global mc\n",
    "        mc = ModelCheckpoint('best_model.h5', monitor='val_accuracy', mode='max', verbose=1, save_best_only=True)\n",
    "    \n",
    "    es = EarlyStopping(monitor='val_accuracy', mode='max', verbose=1, patience=patience)    \n",
    "    sequential.fit(X_train, np.array(y_train), epochs=epochs, verbose=1, validation_data=(X_test, np.array(y_test)), callbacks=[es, mc])\n",
    "    sequential.load_weights('best_model.h5')\n",
    "    return sequential"
   ]
  },
  {
   "cell_type": "markdown",
   "metadata": {},
   "source": [
    "#### Using tf–idf"
   ]
  },
  {
   "cell_type": "code",
   "execution_count": 35,
   "metadata": {},
   "outputs": [],
   "source": [
    "vectorizer = tfidf_vectorizer"
   ]
  },
  {
   "cell_type": "code",
   "execution_count": 36,
   "metadata": {},
   "outputs": [],
   "source": [
    "X_train_vectorized = vectorizer.fit_transform(X_train) \n",
    "X_test_vectorized = vectorizer.transform(X_test)"
   ]
  },
  {
   "cell_type": "code",
   "execution_count": 37,
   "metadata": {},
   "outputs": [
    {
     "name": "stdout",
     "output_type": "stream",
     "text": [
      "WARNING:tensorflow:Falling back from v2 loop because of error: Failed to find data adapter that can handle input: <class 'scipy.sparse.csr.csr_matrix'>, <class 'NoneType'>\n",
      "Train on 117045 samples, validate on 39015 samples\n",
      "Epoch 1/20\n",
      "116864/117045 [============================>.] - ETA: 0s - loss: 1.2084 - accuracy: 0.5203\n",
      "Epoch 00001: val_accuracy improved from -inf to 0.56132, saving model to best_model.h5\n",
      "117045/117045 [==============================] - 48s 412us/sample - loss: 1.2082 - accuracy: 0.5204 - val_loss: 1.0444 - val_accuracy: 0.5613\n",
      "Epoch 2/20\n",
      "116992/117045 [============================>.] - ETA: 0s - loss: 0.9932 - accuracy: 0.5926\n",
      "Epoch 00002: val_accuracy improved from 0.56132 to 0.62025, saving model to best_model.h5\n",
      "117045/117045 [==============================] - 69s 589us/sample - loss: 0.9932 - accuracy: 0.5925 - val_loss: 0.9279 - val_accuracy: 0.6202\n",
      "Epoch 3/20\n",
      "117024/117045 [============================>.] - ETA: 0s - loss: 0.9035 - accuracy: 0.6295\n",
      "Epoch 00003: val_accuracy improved from 0.62025 to 0.63624, saving model to best_model.h5\n",
      "117045/117045 [==============================] - 56s 482us/sample - loss: 0.9035 - accuracy: 0.6295 - val_loss: 0.8921 - val_accuracy: 0.6362\n",
      "Epoch 4/20\n",
      "116896/117045 [============================>.] - ETA: 0s - loss: 0.8591 - accuracy: 0.6500\n",
      "Epoch 00004: val_accuracy improved from 0.63624 to 0.64083, saving model to best_model.h5\n",
      "117045/117045 [==============================] - 51s 439us/sample - loss: 0.8592 - accuracy: 0.6500 - val_loss: 0.8855 - val_accuracy: 0.6408\n",
      "Epoch 5/20\n",
      "116928/117045 [============================>.] - ETA: 0s - loss: 0.8302 - accuracy: 0.6635\n",
      "Epoch 00005: val_accuracy improved from 0.64083 to 0.64839, saving model to best_model.h5\n",
      "117045/117045 [==============================] - 50s 430us/sample - loss: 0.8303 - accuracy: 0.6634 - val_loss: 0.8770 - val_accuracy: 0.6484\n",
      "Epoch 6/20\n",
      "116992/117045 [============================>.] - ETA: 0s - loss: 0.8116 - accuracy: 0.6701 ETA: 0s - loss: 0.8116 - accu\n",
      "Epoch 00006: val_accuracy did not improve from 0.64839\n",
      "117045/117045 [==============================] - 51s 436us/sample - loss: 0.8116 - accuracy: 0.6701 - val_loss: 0.8795 - val_accuracy: 0.6480\n",
      "Epoch 7/20\n",
      "117024/117045 [============================>.] - ETA: 0s - loss: 0.7939 - accuracy: 0.6788\n",
      "Epoch 00007: val_accuracy improved from 0.64839 to 0.64878, saving model to best_model.h5\n",
      "117045/117045 [==============================] - 66s 562us/sample - loss: 0.7940 - accuracy: 0.6787 - val_loss: 0.8778 - val_accuracy: 0.6488\n",
      "Epoch 8/20\n",
      "116960/117045 [============================>.] - ETA: 0s - loss: 0.7808 - accuracy: 0.6854\n",
      "Epoch 00008: val_accuracy improved from 0.64878 to 0.65072, saving model to best_model.h5\n",
      "117045/117045 [==============================] - 62s 527us/sample - loss: 0.7809 - accuracy: 0.6853 - val_loss: 0.8831 - val_accuracy: 0.6507\n",
      "Epoch 9/20\n",
      "116992/117045 [============================>.] - ETA: 0s - loss: 0.7709 - accuracy: 0.6890 ETA: 0s - loss: 0.7708 - accuracy: \n",
      "Epoch 00009: val_accuracy did not improve from 0.65072\n",
      "117045/117045 [==============================] - 58s 492us/sample - loss: 0.7709 - accuracy: 0.6890 - val_loss: 0.8805 - val_accuracy: 0.6501\n",
      "Epoch 10/20\n",
      "117024/117045 [============================>.] - ETA: 0s - loss: 0.7619 - accuracy: 0.6920\n",
      "Epoch 00010: val_accuracy did not improve from 0.65072\n",
      "117045/117045 [==============================] - 45s 386us/sample - loss: 0.7618 - accuracy: 0.6920 - val_loss: 0.8837 - val_accuracy: 0.6497\n",
      "Epoch 11/20\n",
      "117024/117045 [============================>.] - ETA: 0s - loss: 0.7554 - accuracy: 0.6950\n",
      "Epoch 00011: val_accuracy did not improve from 0.65072\n",
      "117045/117045 [==============================] - 54s 458us/sample - loss: 0.7554 - accuracy: 0.6950 - val_loss: 0.8846 - val_accuracy: 0.6496\n",
      "Epoch 12/20\n",
      "116960/117045 [============================>.] - ETA: 0s - loss: 0.7488 - accuracy: 0.6976\n",
      "Epoch 00012: val_accuracy did not improve from 0.65072\n",
      "117045/117045 [==============================] - 47s 406us/sample - loss: 0.7488 - accuracy: 0.6977 - val_loss: 0.8869 - val_accuracy: 0.6486\n",
      "Epoch 13/20\n",
      "116896/117045 [============================>.] - ETA: 0s - loss: 0.7438 - accuracy: 0.6995\n",
      "Epoch 00013: val_accuracy did not improve from 0.65072\n",
      "117045/117045 [==============================] - 43s 364us/sample - loss: 0.7437 - accuracy: 0.6995 - val_loss: 0.8941 - val_accuracy: 0.6465\n",
      "Epoch 00013: early stopping\n"
     ]
    }
   ],
   "source": [
    "sequential = fit_sequential(X_train_vectorized, X_test_vectorized)"
   ]
  },
  {
   "cell_type": "markdown",
   "metadata": {},
   "source": [
    "#### Using Word2vec"
   ]
  },
  {
   "cell_type": "code",
   "execution_count": 38,
   "metadata": {},
   "outputs": [],
   "source": [
    "class W2VTransformer(BaseEstimator, TransformerMixin):\n",
    "    def __init__( self, size):\n",
    "        self.size = size\n",
    "        pass\n",
    "    \n",
    "    def fit( self, X, y=None):\n",
    "        self.model = Word2Vec(min_count=1,\n",
    "                     window=2,\n",
    "                     size=self.size,\n",
    "                     sample=6e-5, \n",
    "                     alpha=0.03, \n",
    "                     min_alpha=0.0007, \n",
    "                     negative=20)\n",
    "        sentences = [row.split() for row in X]\n",
    "        \n",
    "        self.model.build_vocab(sentences)\n",
    "        self.model.train(sentences, total_examples=self.model.corpus_count, epochs=self.model.epochs)\n",
    "        return self\n",
    "        \n",
    "    def get_vector(self, sentence):\n",
    "        relevant_words_vectors = [self.model.wv[x] for x in sentence.split() if x in self.model.wv.vocab]\n",
    "        if not relevant_words_vectors:\n",
    "            return np.zeros(self.model.vector_size)#.astype('float32')\n",
    "        return np.mean(relevant_words_vectors, axis=0)\n",
    "    \n",
    "    def transform( self, X):\n",
    "        arr = np.array([])\n",
    "        for elem in X:\n",
    "            arr = np.concatenate([arr, self.get_vector(elem)])\n",
    "        return arr.reshape(-1, self.size)"
   ]
  },
  {
   "cell_type": "code",
   "execution_count": 39,
   "metadata": {},
   "outputs": [],
   "source": [
    "vectorizer = W2VTransformer(4)\n",
    "X_train_vectorized = vectorizer.fit_transform(X_train) \n",
    "X_test_vectorized = vectorizer.transform(X_test)"
   ]
  },
  {
   "cell_type": "code",
   "execution_count": 41,
   "metadata": {},
   "outputs": [
    {
     "name": "stdout",
     "output_type": "stream",
     "text": [
      "Train on 117045 samples, validate on 39015 samples\n",
      "Epoch 1/20\n",
      "116864/117045 [============================>.] - ETA: 0s - loss: 1.2981 - accuracy: 0.5052\n",
      "Epoch 00001: val_accuracy improved from -inf to 0.51214, saving model to best_model.h5\n",
      "117045/117045 [==============================] - 7s 61us/sample - loss: 1.2981 - accuracy: 0.5052 - val_loss: 1.2759 - val_accuracy: 0.5121\n",
      "Epoch 2/20\n",
      "116640/117045 [============================>.] - ETA: 0s - loss: 1.2783 - accuracy: 0.5092\n",
      "Epoch 00002: val_accuracy did not improve from 0.51214\n",
      "117045/117045 [==============================] - 7s 58us/sample - loss: 1.2782 - accuracy: 0.5092 - val_loss: 1.2752 - val_accuracy: 0.5121\n",
      "Epoch 3/20\n",
      "116800/117045 [============================>.] - ETA: 0s - loss: 1.2745 - accuracy: 0.5092\n",
      "Epoch 00003: val_accuracy did not improve from 0.51214\n",
      "117045/117045 [==============================] - 7s 63us/sample - loss: 1.2745 - accuracy: 0.5092 - val_loss: 1.2723 - val_accuracy: 0.5120\n",
      "Epoch 4/20\n",
      "116352/117045 [============================>.] - ETA: 0s - loss: 1.2728 - accuracy: 0.5091\n",
      "Epoch 00004: val_accuracy did not improve from 0.51214\n",
      "117045/117045 [==============================] - 7s 57us/sample - loss: 1.2727 - accuracy: 0.5091 - val_loss: 1.2704 - val_accuracy: 0.5120\n",
      "Epoch 5/20\n",
      "116288/117045 [============================>.] - ETA: 0s - loss: 1.2714 - accuracy: 0.5090\n",
      "Epoch 00005: val_accuracy did not improve from 0.51214\n",
      "117045/117045 [==============================] - 6s 54us/sample - loss: 1.2713 - accuracy: 0.5090 - val_loss: 1.2703 - val_accuracy: 0.5119\n",
      "Epoch 6/20\n",
      "116224/117045 [============================>.] - ETA: 0s - loss: 1.2702 - accuracy: 0.5089\n",
      "Epoch 00006: val_accuracy did not improve from 0.51214\n",
      "117045/117045 [==============================] - 6s 52us/sample - loss: 1.2700 - accuracy: 0.5090 - val_loss: 1.2705 - val_accuracy: 0.5120\n",
      "Epoch 00006: early stopping\n"
     ]
    }
   ],
   "source": [
    "sequential = fit_sequential(X_train_vectorized, X_test_vectorized)"
   ]
  },
  {
   "cell_type": "code",
   "execution_count": 42,
   "metadata": {},
   "outputs": [],
   "source": [
    "pca = PCA(n_components=2)\n",
    "X_train_vectorized_2d = pca.fit_transform(X_train_vectorized)"
   ]
  },
  {
   "cell_type": "code",
   "execution_count": 43,
   "metadata": {},
   "outputs": [
    {
     "data": {
      "image/png": "[encoded data removed]",
      "text/plain": [
       "<Figure size 1008x576 with 1 Axes>"
      ]
     },
     "metadata": {},
     "output_type": "display_data"
    }
   ],
   "source": [
    "plt.figure(figsize=(14, 8))\n",
    "_ = sns.scatterplot(X_train_vectorized_2d[:,0], X_train_vectorized_2d[:,1], hue=y_train)"
   ]
  },
  {
   "cell_type": "markdown",
   "metadata": {},
   "source": [
    "Even though the scatterplot is not showing us the \"neutral\" points we can see that indeed there is not much of a separation between the classes"
   ]
  },
  {
   "cell_type": "markdown",
   "metadata": {},
   "source": [
    "with the same preprocessing as before but using a neural network, the results are slightly better. It looks like we need to change the preprocessing in such a way that we start using the order between the words. A very first simple method, before we try more complex stuff like Word2Vec or LDA, would be adding 2-grams."
   ]
  },
  {
   "cell_type": "markdown",
   "metadata": {},
   "source": [
    "#### Using BERT"
   ]
  },
  {
   "cell_type": "code",
   "execution_count": 44,
   "metadata": {},
   "outputs": [],
   "source": [
    "model_class, tokenizer_class, pretrained_weights = (transformers.DistilBertModel, transformers.DistilBertTokenizer, 'distilbert-base-uncased')\n",
    "tokenizer = tokenizer_class.from_pretrained(pretrained_weights)\n",
    "model = model_class.from_pretrained(pretrained_weights)"
   ]
  },
  {
   "cell_type": "code",
   "execution_count": 47,
   "metadata": {},
   "outputs": [
    {
     "name": "stderr",
     "output_type": "stream",
     "text": [
      "C:\\Users\\Amos\\Anaconda3\\lib\\site-packages\\ipykernel_launcher.py:13: UserWarning: To copy construct from a tensor, it is recommended to use sourceTensor.clone().detach() or sourceTensor.clone().detach().requires_grad_(True), rather than torch.tensor(sourceTensor).\n",
      "  del sys.path[0]\n"
     ]
    }
   ],
   "source": [
    "kaggle_test = pd.read_csv(\"test.tsv\", sep='\\t', index_col=\"PhraseId\")\n",
    "\n",
    "all_sentences = X_train.append([X_test, kaggle_test.Phrase])\n",
    "\n",
    "tokenized = all_sentences.apply(lambda x: tokenizer.encode(x, add_special_tokens=True))\n",
    "\n",
    "max_len = max(tokenized.apply(len))\n",
    "padded = np.array([row + [0]*(max_len-len(row)) for row in tokenized])\n",
    "\n",
    "attention_mask = np.where(padded != 0, 1, 0)\n",
    "\n",
    "input_ids = torch.tensor(padded)  \n",
    "input_ids = torch.tensor(input_ids).to(torch.int64)\n",
    "\n",
    "attention_mask = torch.tensor(attention_mask)\n",
    "\n",
    "vector_length = model(input_ids[:1], attention_mask=attention_mask[:1])[0].shape[2]\n",
    "\n",
    "vectors = np.zeros(shape=(0,vector_length))"
   ]
  },
  {
   "cell_type": "markdown",
   "metadata": {},
   "source": [
    "We're using an already trained version of distilBERT. In order to create the embedding, this has to be done in batches.\n",
    "For example through the below function:"
   ]
  },
  {
   "cell_type": "code",
   "execution_count": 48,
   "metadata": {},
   "outputs": [],
   "source": [
    "def get_vectors():\n",
    "    start = time.time()\n",
    "    k=1000\n",
    "    for i in range(0, len(all_sentences), k):\n",
    "        with torch.no_grad():\n",
    "            last_hidden_states = model(input_ids[i:i+k], attention_mask=input_ids[i:i+k])\n",
    "        vectors = np.concatenate([vectors, last_hidden_states[0].numpy()[:,0,:]])\n",
    "    return vectors"
   ]
  },
  {
   "cell_type": "markdown",
   "metadata": {},
   "source": [
    "Doing so in a CPU can be highly time consuming (A way of speeding it up could be to use much less precision-numbers). I already saved the data."
   ]
  },
  {
   "cell_type": "code",
   "execution_count": 53,
   "metadata": {},
   "outputs": [],
   "source": [
    "file_name = \"bert_vectors.csv\"\n",
    "if os.path.isfile(file_name):\n",
    "    bert_vectors_df = pd.read_csv(file_name)\n",
    "    vectors = bert_vectors_df.iloc[:,1:]\n",
    "else:\n",
    "    vectors = get_vectors()"
   ]
  },
  {
   "cell_type": "code",
   "execution_count": 54,
   "metadata": {},
   "outputs": [],
   "source": [
    "X_train_vectorized = vectors[:len(X_train)]\n",
    "X_test_vectorized = vectors[len(X_train):len(X_train)+len(X_test)]\n",
    "kaggle_test_vectorized = vectors[len(X_train)+len(X_test):]"
   ]
  },
  {
   "cell_type": "code",
   "execution_count": 71,
   "metadata": {
    "scrolled": true
   },
   "outputs": [
    {
     "name": "stdout",
     "output_type": "stream",
     "text": [
      "WARNING:tensorflow:Falling back from v2 loop because of error: Failed to find data adapter that can handle input: <class 'pandas.core.frame.DataFrame'>, <class 'NoneType'>\n",
      "Train on 117045 samples, validate on 39015 samples\n",
      "Epoch 1/10\n",
      "116896/117045 [============================>.] - ETA: 0s - loss: 0.8369 - accuracy: 0.6523\n",
      "Epoch 00001: val_accuracy did not improve from 0.64147\n",
      "117045/117045 [==============================] - 12s 101us/sample - loss: 0.8368 - accuracy: 0.6523 - val_loss: 0.8577 - val_accuracy: 0.6407\n",
      "Epoch 2/10\n",
      "116512/117045 [============================>.] - ETA: 0s - loss: 0.8319 - accuracy: 0.6532\n",
      "Epoch 00002: val_accuracy did not improve from 0.64147\n",
      "117045/117045 [==============================] - 11s 96us/sample - loss: 0.8320 - accuracy: 0.6532 - val_loss: 0.8663 - val_accuracy: 0.6387\n",
      "Epoch 3/10\n",
      "116448/117045 [============================>.] - ETA: 0s - loss: 0.8271 - accuracy: 0.6563\n",
      "Epoch 00003: val_accuracy improved from 0.64147 to 0.64273, saving model to best_model.h5\n",
      "117045/117045 [==============================] - 11s 91us/sample - loss: 0.8270 - accuracy: 0.6564 - val_loss: 0.8567 - val_accuracy: 0.6427\n",
      "Epoch 4/10\n",
      "116608/117045 [============================>.] - ETA: 0s - loss: 0.8219 - accuracy: 0.6580\n",
      "Epoch 00004: val_accuracy improved from 0.64273 to 0.64447, saving model to best_model.h5\n",
      "117045/117045 [==============================] - 11s 91us/sample - loss: 0.8221 - accuracy: 0.6579 - val_loss: 0.8525 - val_accuracy: 0.6445\n",
      "Epoch 5/10\n",
      "116768/117045 [============================>.] - ETA: 0s - loss: 0.8178 - accuracy: 0.6601\n",
      "Epoch 00005: val_accuracy did not improve from 0.64447\n",
      "117045/117045 [==============================] - 12s 99us/sample - loss: 0.8177 - accuracy: 0.6602 - val_loss: 0.8557 - val_accuracy: 0.6424\n",
      "Epoch 6/10\n",
      "116576/117045 [============================>.] - ETA: 0s - loss: 0.8134 - accuracy: 0.6628\n",
      "Epoch 00006: val_accuracy improved from 0.64447 to 0.64468, saving model to best_model.h5\n",
      "117045/117045 [==============================] - 12s 102us/sample - loss: 0.8133 - accuracy: 0.6629 - val_loss: 0.8502 - val_accuracy: 0.6447\n",
      "Epoch 7/10\n",
      "116768/117045 [============================>.] - ETA: 0s - loss: 0.8094 - accuracy: 0.6632\n",
      "Epoch 00007: val_accuracy improved from 0.64468 to 0.64526, saving model to best_model.h5\n",
      "117045/117045 [==============================] - 12s 100us/sample - loss: 0.8093 - accuracy: 0.6632 - val_loss: 0.8510 - val_accuracy: 0.6453\n",
      "Epoch 8/10\n",
      "116672/117045 [============================>.] - ETA: 0s - loss: 0.8040 - accuracy: 0.6652\n",
      "Epoch 00008: val_accuracy improved from 0.64526 to 0.64542, saving model to best_model.h5\n",
      "117045/117045 [==============================] - 12s 101us/sample - loss: 0.8040 - accuracy: 0.6653 - val_loss: 0.8526 - val_accuracy: 0.6454\n",
      "Epoch 9/10\n",
      "116864/117045 [============================>.] - ETA: 0s - loss: 0.8010 - accuracy: 0.6664\n",
      "Epoch 00009: val_accuracy did not improve from 0.64542\n",
      "117045/117045 [==============================] - 12s 101us/sample - loss: 0.8010 - accuracy: 0.6665 - val_loss: 0.8575 - val_accuracy: 0.6441\n",
      "Epoch 10/10\n",
      "116544/117045 [============================>.] - ETA: 0s - loss: 0.7961 - accuracy: 0.6689\n",
      "Epoch 00010: val_accuracy improved from 0.64542 to 0.64878, saving model to best_model.h5\n",
      "117045/117045 [==============================] - 11s 97us/sample - loss: 0.7960 - accuracy: 0.6690 - val_loss: 0.8486 - val_accuracy: 0.6488\n"
     ]
    }
   ],
   "source": [
    "sequential = fit_sequential(X_train_vectorized, X_test_vectorized, sequential=sequential, epochs=10)"
   ]
  },
  {
   "cell_type": "markdown",
   "metadata": {},
   "source": [
    "We finally check the result in Kaggle Leaderboard."
   ]
  },
  {
   "cell_type": "code",
   "execution_count": 70,
   "metadata": {
    "scrolled": true
   },
   "outputs": [
    {
     "name": "stdout",
     "output_type": "stream",
     "text": [
      "WARNING:tensorflow:Falling back from v2 loop because of error: Failed to find data adapter that can handle input: <class 'pandas.core.frame.DataFrame'>, <class 'NoneType'>\n"
     ]
    }
   ],
   "source": [
    "predict = sequential.predict(kaggle_test_vectorized)\n",
    "predict_max = np.argmax(predict, axis=1)\n",
    "df_output = pd.DataFrame({\"PhraseId\":kaggle_test.index, \"Sentiment\":predict_max})\n",
    "df_output.to_csv(\"submission.csv\", index=False)"
   ]
  },
  {
   "cell_type": "markdown",
   "metadata": {},
   "source": [
    "And it got an accuracy of 0.64917, that corresponds to the place 121 in Kaggle leaderboard."
   ]
  }
 ],
 "metadata": {
  "kernelspec": {
   "display_name": "Python 3",
   "language": "python",
   "name": "python3"
  },
  "language_info": {
   "codemirror_mode": {
    "name": "ipython",
    "version": 3
   },
   "file_extension": ".py",
   "mimetype": "text/x-python",
   "name": "python",
   "nbconvert_exporter": "python",
   "pygments_lexer": "ipython3",
   "version": "3.6.5"
  }
 },
 "nbformat": 4,
 "nbformat_minor": 2
}
